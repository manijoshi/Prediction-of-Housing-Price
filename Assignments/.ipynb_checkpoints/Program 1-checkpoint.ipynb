{
 "cells": [
  {
   "cell_type": "code",
   "execution_count": 1,
   "metadata": {},
   "outputs": [
    {
     "name": "stdout",
     "output_type": "stream",
     "text": [
      "Enter any no. to check it is armstrong no. or not : 407\n",
      "407  is an Armstrong No.\n"
     ]
    }
   ],
   "source": [
    "n=int(input(\"Enter any no. to check it is armstrong no. or not : \"))\n",
    "s=0\n",
    "t=n\n",
    "while (t>0):\n",
    "    a=t%10\n",
    "    s=s+a**3\n",
    "    t=t//10\n",
    "if(n==s):\n",
    "    print(n,\" is an Armstrong No.\")\n",
    "else:\n",
    "    print(n,\" is not an Armstrong No.\")"
   ]
  },
  {
   "cell_type": "code",
   "execution_count": null,
   "metadata": {},
   "outputs": [],
   "source": []
  }
 ],
 "metadata": {
  "kernelspec": {
   "display_name": "Python 3",
   "language": "python",
   "name": "python3"
  },
  "language_info": {
   "codemirror_mode": {
    "name": "ipython",
    "version": 3
   },
   "file_extension": ".py",
   "mimetype": "text/x-python",
   "name": "python",
   "nbconvert_exporter": "python",
   "pygments_lexer": "ipython3",
   "version": "3.7.4"
  }
 },
 "nbformat": 4,
 "nbformat_minor": 2
}
